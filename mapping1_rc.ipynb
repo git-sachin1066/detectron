{
 "cells": [
  {
   "cell_type": "code",
   "execution_count": 1,
   "metadata": {},
   "outputs": [],
   "source": [
    "import detectron2\n",
    "from detectron2.utils.logger import setup_logger\n",
    "setup_logger()\n",
    "\n",
    "# import some common libraries\n",
    "import numpy as np\n",
    "import cv2\n",
    "import os\n",
    "import random\n",
    "import pandas as pd \n",
    "# import some common detectron2 utilities\n",
    "from detectron2 import model_zoo\n",
    "from detectron2.engine import DefaultPredictor\n",
    "from detectron2.engine import DefaultTrainer\n",
    "from detectron2.config import get_cfg\n",
    "from detectron2.utils.visualizer import Visualizer\n",
    "from detectron2.data import MetadataCatalog\n",
    "from detectron2.data.datasets import load_coco_json\n",
    "from sklearn.cluster import AgglomerativeClustering"
   ]
  },
  {
   "cell_type": "code",
   "execution_count": 2,
   "metadata": {},
   "outputs": [],
   "source": [
    "cfg = get_cfg()\n",
    "cfg.merge_from_file(model_zoo.get_config_file(\"COCO-Detection/faster_rcnn_R_101_FPN_3x.yaml\"))\n",
    "cfg.MODEL.WEIGHTS =r'/opt/ice-ai-training-data/page_segment/all_data_v2/output/model_final.pth'\n",
    "\n",
    "cfg.MODEL.ROI_HEADS.NUM_CLASSES = 3\n",
    "cfg.MODEL.ROI_HEADS.SCORE_THRESH_TEST = 0.5  # set threshold for this model\n",
    "predictor = DefaultPredictor(cfg)"
   ]
  },
  {
   "cell_type": "code",
   "execution_count": 3,
   "metadata": {},
   "outputs": [
    {
     "data": {
      "text/plain": [
       "True"
      ]
     },
     "execution_count": 3,
     "metadata": {},
     "output_type": "execute_result"
    }
   ],
   "source": [
    "# if your dataset is in COCO format, this cell can be replaced by the following three lines:\n",
    "from detectron2.data.datasets import register_coco_instances\n",
    "from detectron2.data import DatasetCatalog, MetadataCatalog\n",
    "register_coco_instances(\"trainpsv2_23062020\", {}, r\"/opt/ice-ai-training-data/page_segment/all_data_v2/v2.json\",\n",
    "                        r'/opt/ice-ai-training-data/page_segment/all_data_v2/img')\n",
    "\"trainpsv2_23062020\" in DatasetCatalog.list()"
   ]
  },
  {
   "cell_type": "code",
   "execution_count": 4,
   "metadata": {},
   "outputs": [
    {
     "name": "stdout",
     "output_type": "stream",
     "text": [
      "\u001b[5m\u001b[31mWARNING\u001b[0m \u001b[32m[07/02 01:54:39 d2.data.datasets.coco]: \u001b[0m\n",
      "Category ids in annotations are not in [1, #categories]! We'll apply a mapping for you.\n",
      "\n",
      "\u001b[32m[07/02 01:54:39 d2.data.datasets.coco]: \u001b[0mLoaded 142 images in COCO format from /opt/ice-ai-training-data/page_segment/all_data_v2/v2.json\n",
      "Metadata(evaluator_type='coco', image_root='/opt/ice-ai-training-data/page_segment/all_data_v2/img', json_file='/opt/ice-ai-training-data/page_segment/all_data_v2/v2.json', name='trainpsv2_23062020', thing_classes=['handw', 'printw', 'signature'], thing_dataset_id_to_contiguous_id={0: 0, 1: 1, 2: 2})\n"
     ]
    }
   ],
   "source": [
    "metadata = MetadataCatalog.get(\"trainpsv2_23062020\")\n",
    "dataset_dicts = DatasetCatalog.get(\"trainpsv2_23062020\")\n",
    "print(metadata)"
   ]
  },
  {
   "cell_type": "code",
   "execution_count": 5,
   "metadata": {},
   "outputs": [
    {
     "name": "stdout",
     "output_type": "stream",
     "text": [
      "the number of image for prediction is : 10\n"
     ]
    }
   ],
   "source": [
    "path = r\"/opt/ice-ai-training-data/page_segment/all_data/test\"\n",
    "print('the number of image for prediction is : ' + str(len(os.listdir(path))) )\n",
    "#os.mkdir(\"pred_image\")\n"
   ]
  },
  {
   "cell_type": "code",
   "execution_count": 122,
   "metadata": {},
   "outputs": [
    {
     "data": {
      "text/plain": [
       "'234052pdf_6_bilateral.png'"
      ]
     },
     "execution_count": 122,
     "metadata": {},
     "output_type": "execute_result"
    }
   ],
   "source": [
    "os.listdir(path)[4]\n",
    "#234052pdf_6_bilateral_handy"
   ]
  },
  {
   "cell_type": "code",
   "execution_count": 123,
   "metadata": {},
   "outputs": [
    {
     "data": {
      "text/plain": [
       "True"
      ]
     },
     "execution_count": 123,
     "metadata": {},
     "output_type": "execute_result"
    }
   ],
   "source": [
    "#im = cv2.imread(os.path.join(path ,'234052pdf_6_bilateral_handy.png'))\n",
    "im = cv2.imread(os.path.join(path , os.listdir(path)[4]))\n",
    "outputs= predictor(im)\n",
    "v = Visualizer(im[:, :, ::-1], metadata = metadata, scale=0.8)\n",
    "v = v.draw_instance_predictions(outputs[\"instances\"].to(\"cpu\"))\n",
    "cv2.imwrite(r\"/opt/ice-ai-training-data/page_segment/all_data_v2/pred_data/image\" + str(10)+\".png\" , v.get_image()[:, :, ::-1])"
   ]
  },
  {
   "cell_type": "code",
   "execution_count": 124,
   "metadata": {},
   "outputs": [],
   "source": [
    "pred_class = outputs[\"instances\"].pred_classes.cpu().numpy()\n",
    "pred_annot= outputs[\"instances\"].pred_boxes.tensor.cpu().numpy()\n",
    "full_pred  = np.concatenate((pred_annot,pred_class.reshape(-1,1)), axis = 1)\n",
    "# print(type(full_pred))"
   ]
  },
  {
   "cell_type": "code",
   "execution_count": 125,
   "metadata": {},
   "outputs": [
    {
     "name": "stdout",
     "output_type": "stream",
     "text": [
      "7 7\n"
     ]
    }
   ],
   "source": [
    "## segregte the Hand and Print\n",
    "##classes=['handw', 'printw', 'signature'], thing_dataset_id_to_contiguous_id={0: 0, 1: 1, 2: 2})\n",
    "hand_indx = [ i for i in range(len(pred_class)) if pred_class[i] == 0 ]\n",
    "print_indx = [ i for i in range(len(pred_class)) if pred_class[i] == 1 ]\n",
    "####\n",
    "### take out the annotations for handwritting\n",
    "hannot_df = pd.DataFrame(data = full_pred[hand_indx].astype('int'), columns=['x1','y1', 'x2', 'y2','class'])\n",
    "pannot_df = pd.DataFrame(data = full_pred[print_indx].astype('int'), columns=['x1','y1', 'x2', 'y2','class'])\n",
    "full_annot_df = pd.DataFrame(data = full_pred.astype('int') ,columns=['x1','y1', 'x2', 'y2','class'])\n",
    "print(len(hannot_df), len(pannot_df))"
   ]
  },
  {
   "cell_type": "code",
   "execution_count": 126,
   "metadata": {},
   "outputs": [
    {
     "data": {
      "text/html": [
       "<div>\n",
       "<style scoped>\n",
       "    .dataframe tbody tr th:only-of-type {\n",
       "        vertical-align: middle;\n",
       "    }\n",
       "\n",
       "    .dataframe tbody tr th {\n",
       "        vertical-align: top;\n",
       "    }\n",
       "\n",
       "    .dataframe thead th {\n",
       "        text-align: right;\n",
       "    }\n",
       "</style>\n",
       "<table border=\"1\" class=\"dataframe\">\n",
       "  <thead>\n",
       "    <tr style=\"text-align: right;\">\n",
       "      <th></th>\n",
       "      <th>x1</th>\n",
       "      <th>y1</th>\n",
       "      <th>x2</th>\n",
       "      <th>y2</th>\n",
       "      <th>class</th>\n",
       "    </tr>\n",
       "  </thead>\n",
       "  <tbody>\n",
       "    <tr>\n",
       "      <th>0</th>\n",
       "      <td>126</td>\n",
       "      <td>865</td>\n",
       "      <td>590</td>\n",
       "      <td>934</td>\n",
       "      <td>1</td>\n",
       "    </tr>\n",
       "    <tr>\n",
       "      <th>1</th>\n",
       "      <td>106</td>\n",
       "      <td>463</td>\n",
       "      <td>605</td>\n",
       "      <td>524</td>\n",
       "      <td>1</td>\n",
       "    </tr>\n",
       "    <tr>\n",
       "      <th>2</th>\n",
       "      <td>102</td>\n",
       "      <td>762</td>\n",
       "      <td>597</td>\n",
       "      <td>815</td>\n",
       "      <td>1</td>\n",
       "    </tr>\n",
       "    <tr>\n",
       "      <th>4</th>\n",
       "      <td>117</td>\n",
       "      <td>238</td>\n",
       "      <td>541</td>\n",
       "      <td>277</td>\n",
       "      <td>1</td>\n",
       "    </tr>\n",
       "    <tr>\n",
       "      <th>5</th>\n",
       "      <td>96</td>\n",
       "      <td>330</td>\n",
       "      <td>584</td>\n",
       "      <td>464</td>\n",
       "      <td>1</td>\n",
       "    </tr>\n",
       "    <tr>\n",
       "      <th>7</th>\n",
       "      <td>101</td>\n",
       "      <td>633</td>\n",
       "      <td>563</td>\n",
       "      <td>759</td>\n",
       "      <td>1</td>\n",
       "    </tr>\n",
       "    <tr>\n",
       "      <th>9</th>\n",
       "      <td>105</td>\n",
       "      <td>286</td>\n",
       "      <td>514</td>\n",
       "      <td>322</td>\n",
       "      <td>1</td>\n",
       "    </tr>\n",
       "  </tbody>\n",
       "</table>\n",
       "</div>"
      ],
      "text/plain": [
       "    x1   y1   x2   y2  class\n",
       "0  126  865  590  934      1\n",
       "1  106  463  605  524      1\n",
       "2  102  762  597  815      1\n",
       "4  117  238  541  277      1\n",
       "5   96  330  584  464      1\n",
       "7  101  633  563  759      1\n",
       "9  105  286  514  322      1"
      ]
     },
     "execution_count": 126,
     "metadata": {},
     "output_type": "execute_result"
    }
   ],
   "source": [
    "full_annot_df[full_annot_df['class']==1]"
   ]
  },
  {
   "cell_type": "code",
   "execution_count": 64,
   "metadata": {},
   "outputs": [],
   "source": [
    "## checking tthe annotation\n",
    "# img_path =  r'/opt/ice-ai-training-data/page_segment/all_data/test/178192pdf_11_bilateral.png'\n",
    "# img = cv2.imread(img_path)\n",
    "# cv2.rectangle(img, (92,1509),(639,1547), (155,0,255), 2)\n",
    "# #cv2.rectangle(img, (hannot_array[5][0],hannot_array[5][1]),(hannot_array[5][2],hannot_array[5][3]), (255,140,0), 2)\n",
    "# cv2.imwrite(r'/opt/ice-ai-training-data/page_segment/all_data/test/testbox.png', img)"
   ]
  },
  {
   "cell_type": "code",
   "execution_count": 127,
   "metadata": {},
   "outputs": [],
   "source": [
    "## sort based on xmin the handwritting boxes and \n",
    "# hannot_df.sort_values(['y1','x1'], inplace = True)\n",
    "# hannot_df.head()"
   ]
  },
  {
   "cell_type": "code",
   "execution_count": 128,
   "metadata": {},
   "outputs": [],
   "source": [
    "cluster = AgglomerativeClustering(n_clusters=len(hannot_df),\n",
    "                        affinity='euclidean', \\\n",
    "                        memory=None, \\\n",
    "                        connectivity=None, \\\n",
    "                        compute_full_tree='auto', \\\n",
    "                        linkage='single', \\\n",
    "                        distance_threshold=None)"
   ]
  },
  {
   "cell_type": "code",
   "execution_count": 129,
   "metadata": {},
   "outputs": [
    {
     "data": {
      "text/plain": [
       "AgglomerativeClustering(affinity='euclidean', compute_full_tree='auto',\n",
       "                        connectivity=None, distance_threshold=None,\n",
       "                        linkage='single', memory=None, n_clusters=7)"
      ]
     },
     "execution_count": 129,
     "metadata": {},
     "output_type": "execute_result"
    }
   ],
   "source": [
    "cluster"
   ]
  },
  {
   "cell_type": "code",
   "execution_count": 15,
   "metadata": {},
   "outputs": [],
   "source": [
    "#data_feature = full_annot_df['y1'].to_numpy().reshape(-1,1)"
   ]
  },
  {
   "cell_type": "code",
   "execution_count": 133,
   "metadata": {},
   "outputs": [],
   "source": [
    "data_feature = full_annot_df['y1'].to_numpy().reshape(-1,1)"
   ]
  },
  {
   "cell_type": "code",
   "execution_count": 134,
   "metadata": {},
   "outputs": [
    {
     "data": {
      "text/plain": [
       "AgglomerativeClustering(affinity='euclidean', compute_full_tree='auto',\n",
       "                        connectivity=None, distance_threshold=None,\n",
       "                        linkage='single', memory=None, n_clusters=7)"
      ]
     },
     "execution_count": 134,
     "metadata": {},
     "output_type": "execute_result"
    }
   ],
   "source": [
    "cluster.fit(data_feature)"
   ]
  },
  {
   "cell_type": "code",
   "execution_count": 135,
   "metadata": {},
   "outputs": [
    {
     "data": {
      "text/plain": [
       "AgglomerativeClustering(affinity='euclidean', compute_full_tree='auto',\n",
       "                        connectivity=None, distance_threshold=None,\n",
       "                        linkage='single', memory=None, n_clusters=7)"
      ]
     },
     "execution_count": 135,
     "metadata": {},
     "output_type": "execute_result"
    }
   ],
   "source": [
    "cluster"
   ]
  },
  {
   "cell_type": "code",
   "execution_count": 136,
   "metadata": {},
   "outputs": [
    {
     "data": {
      "text/plain": [
       "True"
      ]
     },
     "execution_count": 136,
     "metadata": {},
     "output_type": "execute_result"
    }
   ],
   "source": [
    "## checking tthe annotation\n",
    "img_path =  r'/opt/ice-ai-training-data/page_segment/all_data/test/234052pdf_6_bilateral.png'\n",
    "img = cv2.imread(img_path)\n",
    "img_newbox = img.copy()\n",
    "for i in range(len(hannot_df)):\n",
    "    class_label = list(np.where(cluster.labels_ == i)[0])\n",
    "    \n",
    "    colour = np.random.randint(high = 255, low = 0, size = 1)\n",
    "    for item in full_annot_df.iloc[class_label].iterrows():\n",
    "        cv2.rectangle(img, (item[1]['x1'],item[1]['y1']),(item[1]['x2'],item[1]['y2']), (155,0,255), 2)\n",
    "        cv2.putText(img,'class'+str(i), (item[1]['x1']+10,item[1]['y1']+10), cv2.FONT_HERSHEY_SIMPLEX, 0.9, (0,0,100), 2)\n",
    "        #cv2.rectangle(img, (hannot_array[5][0],hannot_array[5][1]),(hannot_array[5][2],hannot_array[5][3]), (255,140,0), 2)\n",
    "cv2.imwrite(r'/opt/ice-ai-training-data/page_segment/all_data_v2/mapping/234052pdf_6_bilateral_mappingy.png', img)\n"
   ]
  },
  {
   "cell_type": "code",
   "execution_count": 139,
   "metadata": {},
   "outputs": [],
   "source": [
    "df_mappinghp = pd.DataFrame( columns= ['px1','py1','px2','py2','hx1','hy1','hx2','hy2'])"
   ]
  },
  {
   "cell_type": "code",
   "execution_count": 140,
   "metadata": {},
   "outputs": [
    {
     "name": "stderr",
     "output_type": "stream",
     "text": [
      "/opt/conda/lib/python3.7/site-packages/ipykernel_launcher.py:28: SettingWithCopyWarning: \n",
      "A value is trying to be set on a copy of a slice from a DataFrame\n",
      "\n",
      "See the caveats in the documentation: https://pandas.pydata.org/pandas-docs/stable/user_guide/indexing.html#returning-a-view-versus-a-copy\n"
     ]
    }
   ],
   "source": [
    "img_newbox = img.copy()\n",
    "##### hand --> 0 print ---> 1 \n",
    "for i in range(len(pannot_df)):\n",
    "\n",
    "    class_label = list(np.where(cluster.labels_ == i)[0])\n",
    "    #print(class_label)\n",
    "    df_cluster = full_annot_df.iloc[class_label]\n",
    "    df_handcluster = df_cluster[df_cluster['class'] == 0]\n",
    "    df_printcluster = df_cluster[df_cluster['class']==1]\n",
    "    #print('handcluster\\n',df_handcluster,'\\n\\t\\t####\\nprintcluster\\n', df_printcluster)\n",
    "    ####\n",
    "    if len(df_printcluster)==1 and len(df_handcluster) == 1:\n",
    "        ##only one key value pair\n",
    "        color_array = np.random.randint(low = 50 , high = 255, size = 3)\n",
    "        color = (color_array.item(0),color_array.item(1),color_array.item(2))\n",
    "        cv2.arrowedLine(img_newbox,(df_printcluster['x2'],df_printcluster['y2']-20),\\\n",
    "                 (df_handcluster['x1'],df_handcluster['y2']-20),color,2)\n",
    "        df_mappinghp = df_mappinghp.append({'px1':df_printcluster['x1'].values[0] ,'py1':df_printcluster['y1'].values[0] ,'px2':df_printcluster['x2'].values[0] ,\\\n",
    "                                            'py2':df_printcluster['y2'].values[0] ,'hx1':df_handcluster['x1'].values[0] ,'hy1':df_handcluster['y1'].values[0] ,\\\n",
    "                                            'hx2':df_handcluster['x2'].values[0] ,'hy2':df_handcluster['y2'].values[0] }, ignore_index = True)\n",
    "        \n",
    "\n",
    "    else:\n",
    "        # #--> make a occupied list for handwritting\n",
    "        # list_handw= ['unassigned']*len(df_handcluster)\n",
    "        # ####\n",
    "        #--> sort the df_print y then x ( experimental)\n",
    "        df_printcluster.sort_values(['y1','x1'], inplace = True)\n",
    "        ###\n",
    "        #print(\"\\t\\t###\\n\")\n",
    "        #--> iterate over the print box \n",
    "        for print_row in df_printcluster.iterrows():\n",
    "            py1 = print_row[1]['y1']\n",
    "            py2 = print_row[1]['y2']\n",
    "            px1 = print_row[1]['x1']\n",
    "            px2 = print_row[1]['x2']\n",
    "            ####\n",
    "            list_priw = set(np.arange(py1,py2 ))\n",
    "            #print(f'print row -->\\n{print_row[1]}')\n",
    "            py_mid =  (py1+py2)//2\n",
    "            (py1,py2,py_mid)\n",
    "            ####\n",
    "            for hand_row in df_handcluster.iterrows():\n",
    "                #print(f'hand row -->\\n {hand_row}')\n",
    "                list_handw = set(np.arange(hand_row[1]['y1'],hand_row[1]['y2']) )\n",
    "                set_common_point = list_priw.intersection(list_handw)\n",
    "                overlap_percent_print = len(set_common_point) / len(list_priw)\n",
    "                overlap_percent_hand = len(set_common_point) / len(list_handw)\n",
    "                if (overlap_percent_print >= 0.6 or overlap_percent_hand >= 0.6) and hand_row[1]['x1']>print_row[1]['x1'] :\n",
    "                    #print(f'pixel match')\n",
    "                    if abs(hand_row[1]['x1'] - px2)<img_newbox.shape[1]//3:\n",
    "                        #print(f'box match')\n",
    "                        color_array = np.random.randint(low = 100 , high = 255, size = 3)\n",
    "                        color = (color_array.item(0),color_array.item(1),color_array.item(2))\n",
    "                        cv2.arrowedLine(img_newbox,(print_row[1]['x2'],print_row[1]['y2']-20),\\\n",
    "                             (hand_row[1]['x1'],hand_row[1]['y2']-20),color,2)\n",
    "                        df_mappinghp= df_mappinghp.append({'px1':print_row[1]['x1'] ,'py1':print_row[1]['y1'] ,\\\n",
    "                                             'px2':print_row[1]['x2'] ,'py2':print_row[1]['y2'] ,\\\n",
    "                                             'hx1':hand_row[1]['x1'] ,'hy1':hand_row[1]['y1'] ,'hx2':hand_row[1]['x2'] ,\\\n",
    "                                             'hy2':hand_row[1]['y2'] }, ignore_index = True)\n",
    "                    \n",
    "    cv2.imwrite(r'/opt/ice-ai-training-data/page_segment/all_data_v2/mapping/234052pdf_6_bilateral_lines.png',img_newbox)\n",
    "\n",
    "\n",
    "\n",
    "    \n",
    "    \n",
    "    \n",
    "    \n",
    "    \n",
    "    \n",
    "    \n",
    "    \n",
    "    \n",
    "    \n",
    "    \n",
    "    \n",
    "    \n",
    "\n"
   ]
  },
  {
   "cell_type": "code",
   "execution_count": 141,
   "metadata": {},
   "outputs": [
    {
     "data": {
      "text/html": [
       "<div>\n",
       "<style scoped>\n",
       "    .dataframe tbody tr th:only-of-type {\n",
       "        vertical-align: middle;\n",
       "    }\n",
       "\n",
       "    .dataframe tbody tr th {\n",
       "        vertical-align: top;\n",
       "    }\n",
       "\n",
       "    .dataframe thead th {\n",
       "        text-align: right;\n",
       "    }\n",
       "</style>\n",
       "<table border=\"1\" class=\"dataframe\">\n",
       "  <thead>\n",
       "    <tr style=\"text-align: right;\">\n",
       "      <th></th>\n",
       "      <th>px1</th>\n",
       "      <th>py1</th>\n",
       "      <th>px2</th>\n",
       "      <th>py2</th>\n",
       "      <th>hx1</th>\n",
       "      <th>hy1</th>\n",
       "      <th>hx2</th>\n",
       "      <th>hy2</th>\n",
       "    </tr>\n",
       "  </thead>\n",
       "  <tbody>\n",
       "    <tr>\n",
       "      <th>0</th>\n",
       "      <td>105</td>\n",
       "      <td>286</td>\n",
       "      <td>514</td>\n",
       "      <td>322</td>\n",
       "      <td>770</td>\n",
       "      <td>291</td>\n",
       "      <td>904</td>\n",
       "      <td>339</td>\n",
       "    </tr>\n",
       "    <tr>\n",
       "      <th>1</th>\n",
       "      <td>96</td>\n",
       "      <td>330</td>\n",
       "      <td>584</td>\n",
       "      <td>464</td>\n",
       "      <td>641</td>\n",
       "      <td>341</td>\n",
       "      <td>1488</td>\n",
       "      <td>454</td>\n",
       "    </tr>\n",
       "    <tr>\n",
       "      <th>2</th>\n",
       "      <td>126</td>\n",
       "      <td>865</td>\n",
       "      <td>590</td>\n",
       "      <td>934</td>\n",
       "      <td>641</td>\n",
       "      <td>866</td>\n",
       "      <td>783</td>\n",
       "      <td>932</td>\n",
       "    </tr>\n",
       "    <tr>\n",
       "      <th>3</th>\n",
       "      <td>102</td>\n",
       "      <td>762</td>\n",
       "      <td>597</td>\n",
       "      <td>815</td>\n",
       "      <td>650</td>\n",
       "      <td>766</td>\n",
       "      <td>775</td>\n",
       "      <td>830</td>\n",
       "    </tr>\n",
       "    <tr>\n",
       "      <th>4</th>\n",
       "      <td>106</td>\n",
       "      <td>463</td>\n",
       "      <td>605</td>\n",
       "      <td>524</td>\n",
       "      <td>676</td>\n",
       "      <td>473</td>\n",
       "      <td>1393</td>\n",
       "      <td>559</td>\n",
       "    </tr>\n",
       "    <tr>\n",
       "      <th>5</th>\n",
       "      <td>101</td>\n",
       "      <td>633</td>\n",
       "      <td>563</td>\n",
       "      <td>759</td>\n",
       "      <td>655</td>\n",
       "      <td>633</td>\n",
       "      <td>856</td>\n",
       "      <td>718</td>\n",
       "    </tr>\n",
       "  </tbody>\n",
       "</table>\n",
       "</div>"
      ],
      "text/plain": [
       "   px1  py1  px2  py2  hx1  hy1   hx2  hy2\n",
       "0  105  286  514  322  770  291   904  339\n",
       "1   96  330  584  464  641  341  1488  454\n",
       "2  126  865  590  934  641  866   783  932\n",
       "3  102  762  597  815  650  766   775  830\n",
       "4  106  463  605  524  676  473  1393  559\n",
       "5  101  633  563  759  655  633   856  718"
      ]
     },
     "execution_count": 141,
     "metadata": {},
     "output_type": "execute_result"
    }
   ],
   "source": [
    "df_mappinghp"
   ]
  },
  {
   "cell_type": "code",
   "execution_count": 142,
   "metadata": {},
   "outputs": [
    {
     "data": {
      "text/html": [
       "<div>\n",
       "<style scoped>\n",
       "    .dataframe tbody tr th:only-of-type {\n",
       "        vertical-align: middle;\n",
       "    }\n",
       "\n",
       "    .dataframe tbody tr th {\n",
       "        vertical-align: top;\n",
       "    }\n",
       "\n",
       "    .dataframe thead th {\n",
       "        text-align: right;\n",
       "    }\n",
       "</style>\n",
       "<table border=\"1\" class=\"dataframe\">\n",
       "  <thead>\n",
       "    <tr style=\"text-align: right;\">\n",
       "      <th></th>\n",
       "      <th>px1</th>\n",
       "      <th>py1</th>\n",
       "      <th>px2</th>\n",
       "      <th>py2</th>\n",
       "      <th>hx1</th>\n",
       "      <th>hy1</th>\n",
       "      <th>hx2</th>\n",
       "      <th>hy2</th>\n",
       "    </tr>\n",
       "  </thead>\n",
       "  <tbody>\n",
       "    <tr>\n",
       "      <th>0</th>\n",
       "      <td>105</td>\n",
       "      <td>286</td>\n",
       "      <td>514</td>\n",
       "      <td>322</td>\n",
       "      <td>770</td>\n",
       "      <td>291</td>\n",
       "      <td>904</td>\n",
       "      <td>339</td>\n",
       "    </tr>\n",
       "    <tr>\n",
       "      <th>1</th>\n",
       "      <td>96</td>\n",
       "      <td>330</td>\n",
       "      <td>584</td>\n",
       "      <td>464</td>\n",
       "      <td>641</td>\n",
       "      <td>341</td>\n",
       "      <td>1488</td>\n",
       "      <td>454</td>\n",
       "    </tr>\n",
       "    <tr>\n",
       "      <th>2</th>\n",
       "      <td>126</td>\n",
       "      <td>865</td>\n",
       "      <td>590</td>\n",
       "      <td>934</td>\n",
       "      <td>641</td>\n",
       "      <td>866</td>\n",
       "      <td>783</td>\n",
       "      <td>932</td>\n",
       "    </tr>\n",
       "    <tr>\n",
       "      <th>3</th>\n",
       "      <td>102</td>\n",
       "      <td>762</td>\n",
       "      <td>597</td>\n",
       "      <td>815</td>\n",
       "      <td>650</td>\n",
       "      <td>766</td>\n",
       "      <td>775</td>\n",
       "      <td>830</td>\n",
       "    </tr>\n",
       "    <tr>\n",
       "      <th>4</th>\n",
       "      <td>106</td>\n",
       "      <td>463</td>\n",
       "      <td>605</td>\n",
       "      <td>524</td>\n",
       "      <td>676</td>\n",
       "      <td>473</td>\n",
       "      <td>1393</td>\n",
       "      <td>559</td>\n",
       "    </tr>\n",
       "    <tr>\n",
       "      <th>5</th>\n",
       "      <td>101</td>\n",
       "      <td>633</td>\n",
       "      <td>563</td>\n",
       "      <td>759</td>\n",
       "      <td>655</td>\n",
       "      <td>633</td>\n",
       "      <td>856</td>\n",
       "      <td>718</td>\n",
       "    </tr>\n",
       "  </tbody>\n",
       "</table>\n",
       "</div>"
      ],
      "text/plain": [
       "   px1  py1  px2  py2  hx1  hy1   hx2  hy2\n",
       "0  105  286  514  322  770  291   904  339\n",
       "1   96  330  584  464  641  341  1488  454\n",
       "2  126  865  590  934  641  866   783  932\n",
       "3  102  762  597  815  650  766   775  830\n",
       "4  106  463  605  524  676  473  1393  559\n",
       "5  101  633  563  759  655  633   856  718"
      ]
     },
     "execution_count": 142,
     "metadata": {},
     "output_type": "execute_result"
    }
   ],
   "source": [
    "df__11 = df_mappinghp.copy()\n",
    "df__11"
   ]
  },
  {
   "cell_type": "code",
   "execution_count": 143,
   "metadata": {},
   "outputs": [],
   "source": [
    "kk = df_mappinghp.groupby(['hx1','hx2','hy1','hy2'])"
   ]
  },
  {
   "cell_type": "code",
   "execution_count": 144,
   "metadata": {},
   "outputs": [
    {
     "data": {
      "text/plain": [
       "{(641, 783, 866, 932): Int64Index([2], dtype='int64'),\n",
       " (641, 1488, 341, 454): Int64Index([1], dtype='int64'),\n",
       " (650, 775, 766, 830): Int64Index([3], dtype='int64'),\n",
       " (655, 856, 633, 718): Int64Index([5], dtype='int64'),\n",
       " (676, 1393, 473, 559): Int64Index([4], dtype='int64'),\n",
       " (770, 904, 291, 339): Int64Index([0], dtype='int64')}"
      ]
     },
     "execution_count": 144,
     "metadata": {},
     "output_type": "execute_result"
    }
   ],
   "source": [
    "kk.groups"
   ]
  },
  {
   "cell_type": "code",
   "execution_count": 145,
   "metadata": {},
   "outputs": [
    {
     "name": "stdout",
     "output_type": "stream",
     "text": [
      "   px1  py1  px2  py2  hx1  hy1  hx2  hy2\n",
      "2  126  865  590  934  641  866  783  932 1\n",
      "  px1  py1  px2  py2  hx1  hy1   hx2  hy2\n",
      "1  96  330  584  464  641  341  1488  454 1\n",
      "   px1  py1  px2  py2  hx1  hy1  hx2  hy2\n",
      "3  102  762  597  815  650  766  775  830 1\n",
      "   px1  py1  px2  py2  hx1  hy1  hx2  hy2\n",
      "5  101  633  563  759  655  633  856  718 1\n",
      "   px1  py1  px2  py2  hx1  hy1   hx2  hy2\n",
      "4  106  463  605  524  676  473  1393  559 1\n",
      "   px1  py1  px2  py2  hx1  hy1  hx2  hy2\n",
      "0  105  286  514  322  770  291  904  339 1\n"
     ]
    }
   ],
   "source": [
    "for group_name, df_group in kk:\n",
    "    print(df_group, len(df_group))"
   ]
  },
  {
   "cell_type": "code",
   "execution_count": null,
   "metadata": {},
   "outputs": [],
   "source": [
    "for group_name, df_group in kk:\n",
    "    for item in df_group.iterrows():\n",
    "        print(item[1]['px1'])\n",
    "        "
   ]
  },
  {
   "cell_type": "code",
   "execution_count": 118,
   "metadata": {},
   "outputs": [
    {
     "name": "stdout",
     "output_type": "stream",
     "text": [
      "<class 'pandas.core.frame.DataFrame'>\n",
      "<class 'numpy.int64'>\n",
      "<class 'pandas.core.frame.DataFrame'>\n",
      "<class 'numpy.int64'>\n",
      "<class 'pandas.core.frame.DataFrame'>\n",
      "<class 'numpy.int64'>\n",
      "<class 'pandas.core.frame.DataFrame'>\n",
      "<class 'numpy.int64'>\n",
      "<class 'pandas.core.frame.DataFrame'>\n",
      "<class 'numpy.int64'>\n",
      "<class 'pandas.core.frame.DataFrame'>\n",
      "<class 'numpy.int64'>\n",
      "<class 'pandas.core.frame.DataFrame'>\n",
      "<class 'numpy.int64'>\n",
      "<class 'pandas.core.frame.DataFrame'>\n",
      "<class 'numpy.int64'>\n",
      "<class 'pandas.core.frame.DataFrame'>\n",
      "<class 'numpy.int64'>\n",
      "<class 'pandas.core.frame.DataFrame'>\n",
      "<class 'numpy.int64'>\n"
     ]
    }
   ],
   "source": [
    "for group_name, df_group in kk:\n",
    "    #print(group_name)\n",
    "    print(type(df_group))\n",
    "    print(type(min(df_group.index.values)))"
   ]
  },
  {
   "cell_type": "code",
   "execution_count": 147,
   "metadata": {},
   "outputs": [],
   "source": [
    "df_mappinghp.to_csv('line.csv', index= False )"
   ]
  },
  {
   "cell_type": "code",
   "execution_count": null,
   "metadata": {},
   "outputs": [],
   "source": [
    "class_label = list(np.where(cluster.labels_ == 9)[0])\n",
    "#print(class_label)\n",
    "df_cluster = full_annot_df.iloc[class_label]\n",
    "df_handcluster = df_cluster[df_cluster['class'] == 0]\n",
    "df_printcluster = df_cluster[df_cluster['class']==1]\n",
    "print('handcluster\\n',df_handcluster,'\\n\\t\\t####\\nprintcluster\\n', df_printcluster)\n",
    "df_printcluster.sort_values(['y1','x1'], inplace = True)\n",
    "\n",
    "\n",
    "for print_row in df_printcluster.iterrows():\n",
    "        py1 = print_row[1]['y1']\n",
    "        py2 = print_row[1]['y2']\n",
    "        px1 = print_row[1]['x1']\n",
    "        px2 = print_row[1]['x2']\n",
    "        ####\n",
    "        list_priw = set(np.arange(py1,py2 ))\n",
    "        #print(f'print row -->\\n{print_row[1]}')\n",
    "        py_mid =  (py1+py2)//2\n",
    "        (py1,py2,py_mid)\n",
    "        ####\n",
    "        for hand_row in df_handcluster.iterrows():\n",
    "            #print(f'hand row -->\\n {hand_row}')\n",
    "            list_handw = set(np.arange(hand_row[1]['y1'],hand_row[1]['y2']) )\n",
    "            set_common_point = list_priw.intersection(list_handw)\n",
    "            overlap_percent = len(set_common_point) / len(list_priw)\n",
    "            if overlap_percent >= 0.6 and hand_row[1]['x1']>print_row[1]['x1'] :\n",
    "                #print(f'pixel match')\n",
    "                if abs(hand_row[1]['x1'] - px2)<img_newbox.shape[1]//3:\n",
    "                    #print(f'box match')\n",
    "                    color_array = np.random.randint(low = 100 , high = 255, size = 3)\n",
    "                    color = (color_array.item(0),color_array.item(1),color_array.item(2))\n",
    "                    cv2.arrowedLine(img_newbox,(print_row[1]['x2'],print_row[1]['y2']-20),\\\n",
    "                 (hand_row[1]['x1'],hand_row[1]['y2']-20),color,2)\n",
    "    cv2.imwrite(r'/opt/ice-ai-training-data/page_segment/all_data_v2/mapping/184658pdf_9_bilateral_mapping.png',img_newbox)\n"
   ]
  },
  {
   "cell_type": "code",
   "execution_count": null,
   "metadata": {},
   "outputs": [],
   "source": [
    "###---->condition1 => hand1(y2)> print(y1)\n",
    "df_hand1 = df_handcluster[df_handcluster['y2']>py1]\n",
    "###--->condition2 => print(midy)>hand(y1) or print(midy)>hand(y2)\n",
    "#(df_hand1['y1']<py_mid) | (df_hand1['y2']>py_mid))\n",
    "df_hand2 = df_hand1[df_hand1['y1']<py_mid]\n",
    "#### condition 3 ==>abs(hand(x1)-print(x2))<image.width//2\n",
    "df_hand3 = df_hand2[abs(df_hand2['x2']-px1)<img.shape[1]//2]\n",
    "print(df_hand3 )"
   ]
  },
  {
   "cell_type": "code",
   "execution_count": null,
   "metadata": {},
   "outputs": [],
   "source": [
    "img.shape"
   ]
  },
  {
   "cell_type": "code",
   "execution_count": null,
   "metadata": {},
   "outputs": [],
   "source": [
    "np.arange(10,16)"
   ]
  },
  {
   "cell_type": "code",
   "execution_count": null,
   "metadata": {},
   "outputs": [],
   "source": [
    "type(hand_row[1]['y1'])\n"
   ]
  },
  {
   "cell_type": "code",
   "execution_count": null,
   "metadata": {},
   "outputs": [],
   "source": [
    "np.arange(hand_row[1]['y1'],hand_row[1]['y2']) "
   ]
  },
  {
   "cell_type": "code",
   "execution_count": null,
   "metadata": {},
   "outputs": [],
   "source": [
    "color_array = np.random.randint(low = 0 , high = 255, size = 3, dtype = int)"
   ]
  },
  {
   "cell_type": "code",
   "execution_count": null,
   "metadata": {},
   "outputs": [],
   "source": [
    "type((color_array.item(0),color_array.item(1),color_array.item(2)))"
   ]
  },
  {
   "cell_type": "code",
   "execution_count": null,
   "metadata": {},
   "outputs": [],
   "source": [
    "type(color.item(0,3))\n"
   ]
  },
  {
   "cell_type": "code",
   "execution_count": 75,
   "metadata": {},
   "outputs": [],
   "source": [
    "import tesserocr"
   ]
  },
  {
   "cell_type": "code",
   "execution_count": null,
   "metadata": {},
   "outputs": [],
   "source": []
  }
 ],
 "metadata": {
  "environment": {
   "name": "pytorch-gpu.1-4.m46",
   "type": "gcloud",
   "uri": "gcr.io/deeplearning-platform-release/pytorch-gpu.1-4:m46"
  },
  "kernelspec": {
   "display_name": "Python 3",
   "language": "python",
   "name": "python3"
  },
  "language_info": {
   "codemirror_mode": {
    "name": "ipython",
    "version": 3
   },
   "file_extension": ".py",
   "mimetype": "text/x-python",
   "name": "python",
   "nbconvert_exporter": "python",
   "pygments_lexer": "ipython3",
   "version": "3.7.6"
  }
 },
 "nbformat": 4,
 "nbformat_minor": 4
}
